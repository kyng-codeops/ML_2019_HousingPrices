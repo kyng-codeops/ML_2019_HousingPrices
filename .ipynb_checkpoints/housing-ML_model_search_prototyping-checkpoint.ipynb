{
 "cells": [
  {
   "cell_type": "code",
   "execution_count": 1,
   "metadata": {},
   "outputs": [],
   "source": [
    "%matplotlib inline\n",
    "\n",
    "import os\n",
    "import tarfile\n",
    "from six.moves import urllib\n",
    "\n",
    "import pandas as pd\n",
    "import numpy as np\n",
    "import matplotlib.pyplot as plt\n",
    "\n",
    "DOWNLOAD_ROOT = \"https://raw.githubusercontent.com/ageron/handson-ml/master/\"\n",
    "HOUSING_PATH = os.path.join(\"datasets\", \"housing\")\n",
    "HOUSING_URL = DOWNLOAD_ROOT + \"datasets/housing/housing.tgz\"\n",
    "\n",
    "\n",
    "def fetch_housing_data(housing_url=HOUSING_URL, housing_path=HOUSING_PATH):\n",
    "    if not os.path.isdir(housing_path):\n",
    "        os.makedirs(housing_path)\n",
    "    tgz_path = os.path.join(housing_path, \"housing.tgz\")\n",
    "    urllib.request.urlretrieve(housing_url, tgz_path)\n",
    "    housing_tgz = tarfile.open(tgz_path)\n",
    "    housing_tgz.extractall(path=housing_path)\n",
    "    housing_tgz.close()\n",
    "\n",
    "\n",
    "def load_housing_data(housing_path=HOUSING_PATH):\n",
    "    csv_path = os.path.join(housing_path, \"housing.csv\")\n",
    "    return pd.read_csv(csv_path)\n",
    "\n",
    "\n",
    "# fetch_housing_data()\n",
    "housing = load_housing_data()"
   ]
  },
  {
   "cell_type": "code",
   "execution_count": 2,
   "metadata": {},
   "outputs": [],
   "source": [
    "#\n",
    "# Create income_cat for Stratification\n",
    "#\n",
    "housing['income_cat'] = np.ceil(housing['median_income']/1.5)\n",
    "housing['income_cat'].where(housing['income_cat']<5, 5.0, inplace=True)\n",
    "housing['income_cat'].where(housing['income_cat']<5, other=5.0, inplace=True)"
   ]
  },
  {
   "cell_type": "code",
   "execution_count": 3,
   "metadata": {},
   "outputs": [
    {
     "name": "stdout",
     "output_type": "stream",
     "text": [
      "<class 'pandas.core.frame.DataFrame'>\n",
      "Int64Index: 16512 entries, 17606 to 15775\n",
      "Data columns (total 11 columns):\n",
      "longitude             16512 non-null float64\n",
      "latitude              16512 non-null float64\n",
      "housing_median_age    16512 non-null float64\n",
      "total_rooms           16512 non-null float64\n",
      "total_bedrooms        16354 non-null float64\n",
      "population            16512 non-null float64\n",
      "households            16512 non-null float64\n",
      "median_income         16512 non-null float64\n",
      "median_house_value    16512 non-null float64\n",
      "ocean_proximity       16512 non-null object\n",
      "income_cat            16512 non-null float64\n",
      "dtypes: float64(10), object(1)\n",
      "memory usage: 1.5+ MB\n"
     ]
    }
   ],
   "source": [
    "#\n",
    "#   Data Splitting (Stratified)\n",
    "#\n",
    "from sklearn.model_selection import StratifiedShuffleSplit\n",
    "\n",
    "strat_split = StratifiedShuffleSplit(n_splits=1, test_size=0.2, random_state=42)\n",
    "\n",
    "for train_index, test_index in strat_split.split(housing, housing['income_cat']):\n",
    "    strat_train_set = housing.loc[train_index]\n",
    "    strat_test_set = housing.loc[test_index]\n",
    "\n",
    "strat_train_set.info()"
   ]
  },
  {
   "cell_type": "code",
   "execution_count": 4,
   "metadata": {},
   "outputs": [
    {
     "data": {
      "text/plain": [
       "Index(['longitude', 'latitude', 'housing_median_age', 'total_rooms',\n",
       "       'total_bedrooms', 'population', 'households', 'median_income',\n",
       "       'median_house_value', 'ocean_proximity', 'income_cat'],\n",
       "      dtype='object')"
      ]
     },
     "execution_count": 4,
     "metadata": {},
     "output_type": "execute_result"
    }
   ],
   "source": [
    "strat_test_set.columns"
   ]
  },
  {
   "cell_type": "code",
   "execution_count": 5,
   "metadata": {},
   "outputs": [
    {
     "name": "stdout",
     "output_type": "stream",
     "text": [
      "<class 'pandas.core.frame.DataFrame'>\n",
      "Int64Index: 4128 entries, 5241 to 2398\n",
      "Data columns (total 11 columns):\n",
      "longitude             4128 non-null float64\n",
      "latitude              4128 non-null float64\n",
      "housing_median_age    4128 non-null float64\n",
      "total_rooms           4128 non-null float64\n",
      "total_bedrooms        4079 non-null float64\n",
      "population            4128 non-null float64\n",
      "households            4128 non-null float64\n",
      "median_income         4128 non-null float64\n",
      "median_house_value    4128 non-null float64\n",
      "ocean_proximity       4128 non-null object\n",
      "income_cat            4128 non-null float64\n",
      "dtypes: float64(10), object(1)\n",
      "memory usage: 387.0+ KB\n"
     ]
    }
   ],
   "source": [
    "strat_test_set.info()"
   ]
  },
  {
   "cell_type": "code",
   "execution_count": 6,
   "metadata": {},
   "outputs": [
    {
     "data": {
      "text/html": [
       "<div>\n",
       "<style scoped>\n",
       "    .dataframe tbody tr th:only-of-type {\n",
       "        vertical-align: middle;\n",
       "    }\n",
       "\n",
       "    .dataframe tbody tr th {\n",
       "        vertical-align: top;\n",
       "    }\n",
       "\n",
       "    .dataframe thead th {\n",
       "        text-align: right;\n",
       "    }\n",
       "</style>\n",
       "<table border=\"1\" class=\"dataframe\">\n",
       "  <thead>\n",
       "    <tr style=\"text-align: right;\">\n",
       "      <th></th>\n",
       "      <th>longitude</th>\n",
       "      <th>latitude</th>\n",
       "      <th>housing_median_age</th>\n",
       "      <th>total_rooms</th>\n",
       "      <th>total_bedrooms</th>\n",
       "      <th>population</th>\n",
       "      <th>households</th>\n",
       "      <th>median_income</th>\n",
       "      <th>median_house_value</th>\n",
       "      <th>ocean_proximity</th>\n",
       "      <th>income_cat</th>\n",
       "    </tr>\n",
       "  </thead>\n",
       "  <tbody>\n",
       "    <tr>\n",
       "      <th>17606</th>\n",
       "      <td>-121.89</td>\n",
       "      <td>37.29</td>\n",
       "      <td>38.0</td>\n",
       "      <td>1568.0</td>\n",
       "      <td>351.0</td>\n",
       "      <td>710.0</td>\n",
       "      <td>339.0</td>\n",
       "      <td>2.7042</td>\n",
       "      <td>286600.0</td>\n",
       "      <td>&lt;1H OCEAN</td>\n",
       "      <td>2.0</td>\n",
       "    </tr>\n",
       "    <tr>\n",
       "      <th>18632</th>\n",
       "      <td>-121.93</td>\n",
       "      <td>37.05</td>\n",
       "      <td>14.0</td>\n",
       "      <td>679.0</td>\n",
       "      <td>108.0</td>\n",
       "      <td>306.0</td>\n",
       "      <td>113.0</td>\n",
       "      <td>6.4214</td>\n",
       "      <td>340600.0</td>\n",
       "      <td>&lt;1H OCEAN</td>\n",
       "      <td>5.0</td>\n",
       "    </tr>\n",
       "    <tr>\n",
       "      <th>14650</th>\n",
       "      <td>-117.20</td>\n",
       "      <td>32.77</td>\n",
       "      <td>31.0</td>\n",
       "      <td>1952.0</td>\n",
       "      <td>471.0</td>\n",
       "      <td>936.0</td>\n",
       "      <td>462.0</td>\n",
       "      <td>2.8621</td>\n",
       "      <td>196900.0</td>\n",
       "      <td>NEAR OCEAN</td>\n",
       "      <td>2.0</td>\n",
       "    </tr>\n",
       "    <tr>\n",
       "      <th>3230</th>\n",
       "      <td>-119.61</td>\n",
       "      <td>36.31</td>\n",
       "      <td>25.0</td>\n",
       "      <td>1847.0</td>\n",
       "      <td>371.0</td>\n",
       "      <td>1460.0</td>\n",
       "      <td>353.0</td>\n",
       "      <td>1.8839</td>\n",
       "      <td>46300.0</td>\n",
       "      <td>INLAND</td>\n",
       "      <td>2.0</td>\n",
       "    </tr>\n",
       "    <tr>\n",
       "      <th>3555</th>\n",
       "      <td>-118.59</td>\n",
       "      <td>34.23</td>\n",
       "      <td>17.0</td>\n",
       "      <td>6592.0</td>\n",
       "      <td>1525.0</td>\n",
       "      <td>4459.0</td>\n",
       "      <td>1463.0</td>\n",
       "      <td>3.0347</td>\n",
       "      <td>254500.0</td>\n",
       "      <td>&lt;1H OCEAN</td>\n",
       "      <td>3.0</td>\n",
       "    </tr>\n",
       "  </tbody>\n",
       "</table>\n",
       "</div>"
      ],
      "text/plain": [
       "       longitude  latitude  housing_median_age  total_rooms  total_bedrooms  \\\n",
       "17606    -121.89     37.29                38.0       1568.0           351.0   \n",
       "18632    -121.93     37.05                14.0        679.0           108.0   \n",
       "14650    -117.20     32.77                31.0       1952.0           471.0   \n",
       "3230     -119.61     36.31                25.0       1847.0           371.0   \n",
       "3555     -118.59     34.23                17.0       6592.0          1525.0   \n",
       "\n",
       "       population  households  median_income  median_house_value  \\\n",
       "17606       710.0       339.0         2.7042            286600.0   \n",
       "18632       306.0       113.0         6.4214            340600.0   \n",
       "14650       936.0       462.0         2.8621            196900.0   \n",
       "3230       1460.0       353.0         1.8839             46300.0   \n",
       "3555       4459.0      1463.0         3.0347            254500.0   \n",
       "\n",
       "      ocean_proximity  income_cat  \n",
       "17606       <1H OCEAN         2.0  \n",
       "18632       <1H OCEAN         5.0  \n",
       "14650      NEAR OCEAN         2.0  \n",
       "3230           INLAND         2.0  \n",
       "3555        <1H OCEAN         3.0  "
      ]
     },
     "execution_count": 6,
     "metadata": {},
     "output_type": "execute_result"
    }
   ],
   "source": [
    "strat_train_set.head()"
   ]
  },
  {
   "cell_type": "code",
   "execution_count": 7,
   "metadata": {},
   "outputs": [],
   "source": [
    "#\n",
    "#   Setup Pipelines\n",
    "#\n",
    "from sklearn.impute import SimpleImputer as Imputer\n",
    "from sklearn.preprocessing import OneHotEncoder\n",
    "from sklearn.preprocessing import StandardScaler\n",
    "\n",
    "from sklearn.pipeline import Pipeline\n",
    "from sklearn.pipeline import FeatureUnion\n",
    "\n",
    "from sklearn.base import BaseEstimator , TransformerMixin\n",
    "\n",
    "#\n",
    "# Need a boiler-plate object/class that will convert Pandas DFs into NumPy arrays\n",
    "#   sklearn and other ML libraries are based on linear algebra so they expect only numbers\n",
    "#\n",
    "class DataFrameSelector(BaseEstimator, TransformerMixin):\n",
    "    def __init__(self, attribute_names):\n",
    "        self.attribute_names = attribute_names\n",
    "\n",
    "    def fit(self, X, y=None):\n",
    "        return self\n",
    "\n",
    "    def transform(self, X):\n",
    "        return X[self.attribute_names].values\n",
    "\n",
    "# When setting up the pipeline, remember to include removal of labels/answers in the pipeline template itself\n",
    "#     it will be obvious if this step is botched because the models will predict at near perfection\n",
    "#     when you leave the answers in along with the dataset (root mean sq errors near zero)\n",
    "#\n",
    "# here: \n",
    "#        'ocean_proximity' will be OneHot-encoded so remove and re-add\n",
    "#        'median_house_value' is our label/answer column so the pipeline should never see it\n",
    "#\n",
    "housing_num = housing.drop(['ocean_proximity', 'median_house_value'], axis=1)\n",
    "\n",
    "num_attribs = list(housing_num)\n",
    "cat_attribs = ['ocean_proximity']\n",
    "\n",
    "#\n",
    "# Pipeline #1\n",
    "# Interpolates missing data ('bedrooms') using median estiates\n",
    "# Scales the numerical values of the features 100,000-1,000,000 might be represented as 0.1-1.0\n",
    "num_pipeline = Pipeline([\n",
    "    ('selector', DataFrameSelector(num_attribs)),\n",
    "    ('imputer', Imputer(strategy=\"median\")),\n",
    "    ('std_scaler', StandardScaler()),\n",
    " ])\n",
    "\n",
    "#\n",
    "# Pipeline #2\n",
    "# Factorize and OneHotEncoding 'ocean_proximities'\n",
    "cat_pipeline = Pipeline([\n",
    "    ('selector', DataFrameSelector(cat_attribs)),\n",
    "    ('cat_encoder', OneHotEncoder(sparse=False)),\n",
    "])\n",
    "\n",
    "# Pipeline #3\n",
    "# Join the two previous pipelines\n",
    "full_pipeline = FeatureUnion(transformer_list=[\n",
    "    ('num_pipeline', num_pipeline),\n",
    "    ('cat_pipeline', cat_pipeline),\n",
    "])"
   ]
  },
  {
   "cell_type": "code",
   "execution_count": 8,
   "metadata": {},
   "outputs": [
    {
     "data": {
      "text/plain": [
       "array([286600., 340600., 196900., ...,  97800., 225900., 500001.])"
      ]
     },
     "execution_count": 8,
     "metadata": {},
     "output_type": "execute_result"
    }
   ],
   "source": [
    "#\n",
    "#   Prep training datasets first separating labels from features\n",
    "# \n",
    "train_labels = strat_train_set['median_house_value'].copy().to_numpy()\n",
    "\n",
    "train_labels"
   ]
  },
  {
   "cell_type": "code",
   "execution_count": 9,
   "metadata": {
    "scrolled": true
   },
   "outputs": [
    {
     "data": {
      "text/html": [
       "<div>\n",
       "<style scoped>\n",
       "    .dataframe tbody tr th:only-of-type {\n",
       "        vertical-align: middle;\n",
       "    }\n",
       "\n",
       "    .dataframe tbody tr th {\n",
       "        vertical-align: top;\n",
       "    }\n",
       "\n",
       "    .dataframe thead th {\n",
       "        text-align: right;\n",
       "    }\n",
       "</style>\n",
       "<table border=\"1\" class=\"dataframe\">\n",
       "  <thead>\n",
       "    <tr style=\"text-align: right;\">\n",
       "      <th></th>\n",
       "      <th>longitude</th>\n",
       "      <th>latitude</th>\n",
       "      <th>housing_median_age</th>\n",
       "      <th>total_rooms</th>\n",
       "      <th>total_bedrooms</th>\n",
       "      <th>population</th>\n",
       "      <th>households</th>\n",
       "      <th>median_income</th>\n",
       "      <th>ocean_proximity</th>\n",
       "      <th>income_cat</th>\n",
       "    </tr>\n",
       "  </thead>\n",
       "  <tbody>\n",
       "    <tr>\n",
       "      <th>17606</th>\n",
       "      <td>-121.89</td>\n",
       "      <td>37.29</td>\n",
       "      <td>38.0</td>\n",
       "      <td>1568.0</td>\n",
       "      <td>351.0</td>\n",
       "      <td>710.0</td>\n",
       "      <td>339.0</td>\n",
       "      <td>2.7042</td>\n",
       "      <td>&lt;1H OCEAN</td>\n",
       "      <td>2.0</td>\n",
       "    </tr>\n",
       "    <tr>\n",
       "      <th>18632</th>\n",
       "      <td>-121.93</td>\n",
       "      <td>37.05</td>\n",
       "      <td>14.0</td>\n",
       "      <td>679.0</td>\n",
       "      <td>108.0</td>\n",
       "      <td>306.0</td>\n",
       "      <td>113.0</td>\n",
       "      <td>6.4214</td>\n",
       "      <td>&lt;1H OCEAN</td>\n",
       "      <td>5.0</td>\n",
       "    </tr>\n",
       "    <tr>\n",
       "      <th>14650</th>\n",
       "      <td>-117.20</td>\n",
       "      <td>32.77</td>\n",
       "      <td>31.0</td>\n",
       "      <td>1952.0</td>\n",
       "      <td>471.0</td>\n",
       "      <td>936.0</td>\n",
       "      <td>462.0</td>\n",
       "      <td>2.8621</td>\n",
       "      <td>NEAR OCEAN</td>\n",
       "      <td>2.0</td>\n",
       "    </tr>\n",
       "    <tr>\n",
       "      <th>3230</th>\n",
       "      <td>-119.61</td>\n",
       "      <td>36.31</td>\n",
       "      <td>25.0</td>\n",
       "      <td>1847.0</td>\n",
       "      <td>371.0</td>\n",
       "      <td>1460.0</td>\n",
       "      <td>353.0</td>\n",
       "      <td>1.8839</td>\n",
       "      <td>INLAND</td>\n",
       "      <td>2.0</td>\n",
       "    </tr>\n",
       "    <tr>\n",
       "      <th>3555</th>\n",
       "      <td>-118.59</td>\n",
       "      <td>34.23</td>\n",
       "      <td>17.0</td>\n",
       "      <td>6592.0</td>\n",
       "      <td>1525.0</td>\n",
       "      <td>4459.0</td>\n",
       "      <td>1463.0</td>\n",
       "      <td>3.0347</td>\n",
       "      <td>&lt;1H OCEAN</td>\n",
       "      <td>3.0</td>\n",
       "    </tr>\n",
       "  </tbody>\n",
       "</table>\n",
       "</div>"
      ],
      "text/plain": [
       "       longitude  latitude  housing_median_age  total_rooms  total_bedrooms  \\\n",
       "17606    -121.89     37.29                38.0       1568.0           351.0   \n",
       "18632    -121.93     37.05                14.0        679.0           108.0   \n",
       "14650    -117.20     32.77                31.0       1952.0           471.0   \n",
       "3230     -119.61     36.31                25.0       1847.0           371.0   \n",
       "3555     -118.59     34.23                17.0       6592.0          1525.0   \n",
       "\n",
       "       population  households  median_income ocean_proximity  income_cat  \n",
       "17606       710.0       339.0         2.7042       <1H OCEAN         2.0  \n",
       "18632       306.0       113.0         6.4214       <1H OCEAN         5.0  \n",
       "14650       936.0       462.0         2.8621      NEAR OCEAN         2.0  \n",
       "3230       1460.0       353.0         1.8839          INLAND         2.0  \n",
       "3555       4459.0      1463.0         3.0347       <1H OCEAN         3.0  "
      ]
     },
     "execution_count": 9,
     "metadata": {},
     "output_type": "execute_result"
    }
   ],
   "source": [
    "strat_train_set.drop(['median_house_value'], axis=1, inplace=True)\n",
    "\n",
    "# Make sure the labels are gone\n",
    "strat_train_set.head()"
   ]
  },
  {
   "cell_type": "code",
   "execution_count": 10,
   "metadata": {},
   "outputs": [
    {
     "data": {
      "text/plain": [
       "numpy.ndarray"
      ]
     },
     "execution_count": 10,
     "metadata": {},
     "output_type": "execute_result"
    }
   ],
   "source": [
    "# Apply the PIPELINE automation object to the pandas Dataframe which now contains 'features' ONLY\n",
    "\n",
    "train_features_prepared = full_pipeline.fit_transform(strat_train_set)\n",
    "\n",
    "type(train_features_prepared)"
   ]
  },
  {
   "cell_type": "code",
   "execution_count": 11,
   "metadata": {},
   "outputs": [
    {
     "data": {
      "text/plain": [
       "(16512, 14)"
      ]
     },
     "execution_count": 11,
     "metadata": {},
     "output_type": "execute_result"
    }
   ],
   "source": [
    "train_features_prepared.shape"
   ]
  },
  {
   "cell_type": "code",
   "execution_count": 12,
   "metadata": {
    "scrolled": false
   },
   "outputs": [
    {
     "data": {
      "text/plain": [
       "array([-1.15604281,  0.77194962,  0.74333089, -0.49323393, -0.44543821,\n",
       "       -0.63621141, -0.42069842, -0.61493744, -0.95445595,  1.        ,\n",
       "        0.        ,  0.        ,  0.        ,  0.        ])"
      ]
     },
     "execution_count": 12,
     "metadata": {},
     "output_type": "execute_result"
    }
   ],
   "source": [
    "# Notice: dataframes are meant to be human readable and interactive, behave like database tables\n",
    "#\n",
    "# But the ML routines need raw numbers, not very user-friendly\n",
    "#\n",
    "train_features_prepared[0,:]"
   ]
  },
  {
   "cell_type": "code",
   "execution_count": 13,
   "metadata": {},
   "outputs": [
    {
     "data": {
      "text/plain": [
       "(4128, 14)"
      ]
     },
     "execution_count": 13,
     "metadata": {},
     "output_type": "execute_result"
    }
   ],
   "source": [
    "#\n",
    "# Repeat the data prep sequence for our stratified test dataset\n",
    "#\n",
    "test_lables = strat_test_set['median_house_value'].to_numpy()\n",
    "strat_test_set.drop(['median_house_value'], axis=1, inplace=True)\n",
    "\n",
    "test_features_prepared = full_pipeline.fit_transform(strat_test_set)\n",
    "\n",
    "test_features_prepared.shape"
   ]
  },
  {
   "cell_type": "code",
   "execution_count": 14,
   "metadata": {},
   "outputs": [
    {
     "name": "stdout",
     "output_type": "stream",
     "text": [
      "Training root mean sq err on LinReg is +/- $67239.88103988128\n"
     ]
    }
   ],
   "source": [
    "#\n",
    "#   Model Testing, pre-built models come from the framework (Spark ML for Spark, or here we use the sklearn libs)\n",
    "#\n",
    "from sklearn.metrics import mean_squared_error\n",
    "from sklearn.linear_model import LinearRegression\n",
    "\n",
    "lin_reg = LinearRegression()     # init the model as an object\n",
    "lin_reg.fit(train_features_prepared, train_labels)     # train the model on an array of features\n",
    "lin_predictions = lin_reg.predict(test_features_prepared)     # use the model to predict an array of results\n",
    "\n",
    "lin_mse = mean_squared_error(test_lables, lin_predictions)     # compare the arrays for variance\n",
    "lin_rmse = np.sqrt(lin_mse)     # summarize errors (in this case as root mean sq, but not all cases)\n",
    "\n",
    "print('Training root mean sq err on LinReg is +/- ${}'.format(lin_rmse))"
   ]
  },
  {
   "cell_type": "code",
   "execution_count": 15,
   "metadata": {
    "scrolled": true
   },
   "outputs": [
    {
     "data": {
      "image/png": "[encoded data removed]",
      "text/plain": [
       "<Figure size 432x288 with 1 Axes>"
      ]
     },
     "metadata": {
      "needs_background": "light"
     },
     "output_type": "display_data"
    }
   ],
   "source": [
    "fig, ax = plt.subplots()\n",
    "ax.scatter(test_lables, lin_predictions)\n",
    "ax.plot([test_lables.min(), test_lables.max()], [lin_predictions.min(), lin_predictions.max()], 'k--', lw=4)\n",
    "ax.set_xlabel('Measured')\n",
    "ax.set_ylabel('Predicted')\n",
    "plt.show()"
   ]
  },
  {
   "cell_type": "code",
   "execution_count": 16,
   "metadata": {},
   "outputs": [
    {
     "data": {
      "text/plain": [
       "0.32590819930561177"
      ]
     },
     "execution_count": 16,
     "metadata": {},
     "output_type": "execute_result"
    }
   ],
   "source": [
    "# The size of the root mean sq errors are 2/3 of the values we're trying to predict!\n",
    "mean_err_pct_of_mean = (test_lables.mean() - lin_rmse)/test_lables.mean()\n",
    "# Or about 33% in error!  We probably need more features!\n",
    "1 - mean_err_pct_of_mean"
   ]
  },
  {
   "cell_type": "code",
   "execution_count": 17,
   "metadata": {},
   "outputs": [
    {
     "name": "stdout",
     "output_type": "stream",
     "text": [
      "Training root mean sq err on TreeReg is +/- $75155.3766753543\n"
     ]
    }
   ],
   "source": [
    "from sklearn.tree import DecisionTreeRegressor\n",
    "\n",
    "tree_reg = DecisionTreeRegressor()\n",
    "tree_reg.fit(train_features_prepared, train_labels)\n",
    "tree_predictions = tree_reg.predict(test_features_prepared)\n",
    "\n",
    "tree_mse = mean_squared_error(test_lables, tree_predictions)\n",
    "tree_rmse = np.sqrt(tree_mse)\n",
    "\n",
    "print('Training root mean sq err on TreeReg is +/- ${}'.format(tree_rmse))"
   ]
  },
  {
   "cell_type": "code",
   "execution_count": 18,
   "metadata": {},
   "outputs": [
    {
     "data": {
      "image/png": "[encoded data removed]",
      "text/plain": [
       "<Figure size 432x288 with 1 Axes>"
      ]
     },
     "metadata": {
      "needs_background": "light"
     },
     "output_type": "display_data"
    }
   ],
   "source": [
    "fig, ax = plt.subplots()\n",
    "ax.scatter(test_lables, tree_predictions)\n",
    "ax.plot([test_lables.min(), test_lables.max()], [tree_predictions.min(), tree_predictions.max()], 'k--', lw=4)\n",
    "ax.set_xlabel('Measured')\n",
    "ax.set_ylabel('Predicted')\n",
    "plt.show()"
   ]
  },
  {
   "cell_type": "code",
   "execution_count": 19,
   "metadata": {},
   "outputs": [
    {
     "name": "stdout",
     "output_type": "stream",
     "text": [
      "Training root mean sq err on ForestR is +/- $55978.1488359186\n"
     ]
    }
   ],
   "source": [
    "from sklearn.ensemble import RandomForestRegressor\n",
    "\n",
    "forest_reg = RandomForestRegressor(n_estimators=10)\n",
    "forest_reg.fit(train_features_prepared, train_labels)\n",
    "forest_predictions = forest_reg.predict(test_features_prepared)\n",
    "\n",
    "forest_mse = mean_squared_error(test_lables, forest_predictions)\n",
    "forest_rmse = np.sqrt(forest_mse)\n",
    "\n",
    "print('Training root mean sq err on ForestR is +/- ${}'.format(forest_rmse))"
   ]
  },
  {
   "cell_type": "code",
   "execution_count": 20,
   "metadata": {},
   "outputs": [
    {
     "data": {
      "image/png": "[encoded data removed]",
      "text/plain": [
       "<Figure size 432x288 with 1 Axes>"
      ]
     },
     "metadata": {
      "needs_background": "light"
     },
     "output_type": "display_data"
    }
   ],
   "source": [
    "fig, ax = plt.subplots()\n",
    "ax.scatter(test_lables, forest_predictions)\n",
    "ax.plot([test_lables.min(), test_lables.max()], [forest_predictions.min(), forest_predictions.max()], 'k--', lw=4)\n",
    "ax.set_xlabel('Measured')\n",
    "ax.set_ylabel('Predicted')\n",
    "plt.show()"
   ]
  },
  {
   "cell_type": "code",
   "execution_count": 21,
   "metadata": {},
   "outputs": [
    {
     "name": "stdout",
     "output_type": "stream",
     "text": [
      "\n",
      "====lin_reg========\n",
      "Scores:  [67619.61461787 67022.70008448 68317.45891939 74175.43746114\n",
      " 68112.25073467 71583.68229765 65235.24278175 68160.85292722\n",
      " 72236.07712378 68163.77349381]\n",
      "Mean:  69062.70904417595\n",
      "Std Dev:  2579.5235485246944\n"
     ]
    }
   ],
   "source": [
    "#\n",
    "# Simply taking 1-pass at the data doesn't show real-life stability or consistency\n",
    "#\n",
    "# Framework Tools like K-fold Cross-Validation: \n",
    "# randomly re-sample the dataset into K distinct sub-sets called data folds,\n",
    "# then re-fit the model to re-examine error levels (i.e. testing scores)\n",
    "\n",
    "from sklearn.model_selection import cross_val_score\n",
    "from sklearn.externals import joblib\n",
    "\n",
    "def display_scores(scores, title):\n",
    "    \"\"\"\n",
    "    Simple cli to rapid print model scoring summaries\n",
    "    :param scores: Array from the cross_val_scoring\n",
    "    :param title: Text string to indicate the model\n",
    "    :return:\n",
    "    \"\"\"\n",
    "    print('\\n===={}========'.format(title))\n",
    "    print('Scores: ', scores)\n",
    "    print('Mean: ', scores.mean())\n",
    "    print('Std Dev: ', scores.std())\n",
    "    \n",
    "    \n",
    "scores = cross_val_score(lin_reg, train_features_prepared, train_labels, scoring='neg_mean_squared_error', cv=10)\n",
    "# cv=10 means 10 data-folds\n",
    "# neg_mean_square_error is called because MSE and cross_val use opposite signage for increasing/decreasing errors\n",
    "lin_rmse_scores = np.sqrt(-scores)\n",
    "display_scores(lin_rmse_scores, 'lin_reg')"
   ]
  },
  {
   "cell_type": "code",
   "execution_count": 22,
   "metadata": {},
   "outputs": [
    {
     "data": {
      "text/plain": [
       "-0.026393809763945113"
      ]
     },
     "execution_count": 22,
     "metadata": {},
     "output_type": "execute_result"
    }
   ],
   "source": [
    "# LinearRegression cross-validation tells us the model can drift by 3% so there is slight over-fitting\n",
    "(67239.88103988128-lin_rmse_scores.mean())/lin_rmse_scores.mean()"
   ]
  },
  {
   "cell_type": "code",
   "execution_count": 23,
   "metadata": {
    "scrolled": true
   },
   "outputs": [
    {
     "name": "stdout",
     "output_type": "stream",
     "text": [
      "\n",
      "====tree_reg========\n",
      "Scores:  [65860.32088364 67595.62716216 70430.07492778 72524.75524818\n",
      " 67377.74572521 69956.83272529]\n",
      "Mean:  68957.55944537658\n",
      "Std Dev:  2229.9212419637297\n"
     ]
    }
   ],
   "source": [
    "# You might think more folds is better, but more folds means less training data\n",
    "# cv=6 uncovered more variances (and for lin_reg above didn't change the 3% over-fit)\n",
    "\n",
    "scores = cross_val_score(tree_reg, train_features_prepared, train_labels, scoring='neg_mean_squared_error', cv=6)\n",
    "tree_rmse_scores = np.sqrt(-scores)\n",
    "display_scores(tree_rmse_scores, 'tree_reg')"
   ]
  },
  {
   "cell_type": "code",
   "execution_count": 24,
   "metadata": {},
   "outputs": [
    {
     "data": {
      "text/plain": [
       "0.07918182935368757"
      ]
     },
     "execution_count": 24,
     "metadata": {},
     "output_type": "execute_result"
    }
   ],
   "source": [
    "# TreeRegression shows a 8% shift in mean error (sort of telling us over-fitting increased with Tree vs Lin)\n",
    "# i.e. just resampling the same data introduces 8% variability\n",
    "(74417.74515002716-tree_rmse_scores.mean())/tree_rmse_scores.mean()"
   ]
  },
  {
   "cell_type": "code",
   "execution_count": 25,
   "metadata": {},
   "outputs": [
    {
     "name": "stdout",
     "output_type": "stream",
     "text": [
      "\n",
      "====forest_reg========\n",
      "Scores:  [49005.28076879 51876.83647937 52421.64925214 54174.72667442\n",
      " 52988.53584993 54137.26871402]\n",
      "Mean:  52434.04962311047\n",
      "Std Dev:  1746.6855735664972\n"
     ]
    }
   ],
   "source": [
    "scores = cross_val_score(forest_reg, train_features_prepared, train_labels, scoring='neg_mean_squared_error', cv=6)\n",
    "forest_rmse_scores = np.sqrt(-scores)\n",
    "display_scores(forest_rmse_scores, 'forest_reg')"
   ]
  },
  {
   "cell_type": "code",
   "execution_count": 26,
   "metadata": {},
   "outputs": [
    {
     "data": {
      "text/plain": [
       "0.09690246978934963"
      ]
     },
     "execution_count": 26,
     "metadata": {},
     "output_type": "execute_result"
    }
   ],
   "source": [
    "# RandomForest was even more over-fit by almost 10%, \n",
    "# while it produced lower total error, it will generalize even worse\n",
    "(56987.48471199485-51953.10091966407)/51953.10091966407"
   ]
  },
  {
   "cell_type": "code",
   "execution_count": 27,
   "metadata": {},
   "outputs": [],
   "source": [
    "# We haven't added the derived features back in, but as shown, the process is not very straight-forward\n",
    "#\n",
    "# There are tools to automate the trial and error model search, sklearn has GridSearchCV\n",
    "#\n",
    "# And even with automation, the process will be iterative, it's not a process of A to B = C, more:\n",
    "# A' to B' = C' \n",
    "# A'' to B'' = C''\n",
    "# C'' to D = E\n",
    "# etc\n",
    "\n",
    "\n",
    "\n",
    "# but how do we save these models for production or run-time!?\n",
    "\n",
    "def save_models_as_files():\n",
    "    # TODO: placeholder, need to pass key,val of model and filenames to save\n",
    "    joblib.dump(my_model, \"six_moves_model.pkl\")\n",
    "\n",
    "\n",
    "def load_saved_models_frm_files():\n",
    "    # TODO: placeholder, need to pass key,val of model and filenames to load\n",
    "    my_model = joblib.load(\"six_moves_model.pkl\")\n"
   ]
  },
  {
   "cell_type": "code",
   "execution_count": null,
   "metadata": {},
   "outputs": [],
   "source": []
  }
 ],
 "metadata": {
  "kernelspec": {
   "display_name": "Python 3",
   "language": "python",
   "name": "python3"
  },
  "language_info": {
   "codemirror_mode": {
    "name": "ipython",
    "version": 3
   },
   "file_extension": ".py",
   "mimetype": "text/x-python",
   "name": "python",
   "nbconvert_exporter": "python",
   "pygments_lexer": "ipython3",
   "version": "3.7.1"
  }
 },
 "nbformat": 4,
 "nbformat_minor": 2
}
